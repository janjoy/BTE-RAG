{
 "cells": [
  {
   "cell_type": "code",
   "execution_count": 12,
   "id": "991ee0a4-5472-4ff1-9e58-ccfc1f3b48f9",
   "metadata": {},
   "outputs": [
    {
     "name": "stdout",
     "output_type": "stream",
     "text": [
      "Python 3.10.9\n"
     ]
    }
   ],
   "source": [
    "!python --version\n",
    "import requests\n",
    "import yaml"
   ]
  },
  {
   "cell_type": "markdown",
   "id": "028aa2fc-8d11-491a-a3b3-f6eed13ebc12",
   "metadata": {},
   "source": [
    "# BTE- APIs referencing"
   ]
  },
  {
   "cell_type": "code",
   "execution_count": 11,
   "id": "375fcadd-856c-4786-a67f-67423fe18d42",
   "metadata": {},
   "outputs": [
    {
     "name": "stdout",
     "output_type": "stream",
     "text": [
      "Found 61 ids and 61 names.\n",
      "\n",
      "Names:\n",
      "– Monarch API\n",
      "– CTD API\n",
      "– Complex Portal Web Service\n",
      "– EBI Proteins API\n",
      "– LitVar API\n",
      "– QuickGO API\n",
      "– Ontology Lookup Service API\n",
      "– BioThings AGR API\n",
      "– BioThings BindingDB API\n",
      "– BioThings BioPlanet Pathway-Disease API\n",
      "– BioThings BioPlanet Pathway-Gene API\n",
      "– BioThings DDInter API\n",
      "– BioThings DGIdb API\n",
      "– BioThings DISEASES API\n",
      "– BioThings EBIgene2phenotype API\n",
      "– BioThings FooDB API\n",
      "– BioThings FoodData Central API\n",
      "– BioThings GO Biological Process API\n",
      "– BioThings GO Cellular Component API\n",
      "– BioThings GO Molecular Function API\n",
      "– BioThings GTRx API\n",
      "– BioThings HPO API\n",
      "– BioThings IDISK API\n",
      "– BioThings InnateDB API\n",
      "– BioThings mabs API\n",
      "– BioThings MGIgene2phenotype API\n",
      "– BioThings PFOCR API\n",
      "– BioThings RARe-SOURCE API\n",
      "– BioThings repoDB API\n",
      "– BioThings Rhea API\n",
      "– BioThings SEMMEDDB API\n",
      "– BioThings SuppKG API\n",
      "– Biothings Therapeutic Target Database API\n",
      "– BioThings UBERON API\n",
      "– MyChem.info API\n",
      "– MyDisease.info API\n",
      "– MyGene.info API\n",
      "– MyVariant.info API\n",
      "– Multiomics BigGIM-DrugResponse KP API\n",
      "– Multiomics EHR Risk KP API\n",
      "– Multiomics Wellness KP API\n",
      "– Text Mining Targeted Association API\n",
      "– Automat-ctd(Trapi v1.5.0)\n",
      "– Automat-drug-central(Trapi v1.5.0)\n",
      "– Automat-gtex(Trapi v1.5.0)\n",
      "– Automat-gtopdb(Trapi v1.5.0)\n",
      "– Automat-gwas-catalog(Trapi v1.5.0)\n",
      "– Automat-hetionet(Trapi v1.5.0)\n",
      "– Automat-hgnc(Trapi v1.5.0)\n",
      "– Automat-hmdb(Trapi v1.5.0)\n",
      "– Automat-human-goa(Trapi v1.5.0)\n",
      "– Automat-icees-kg(Trapi v1.5.0)\n",
      "– Automat-intact(Trapi v1.5.0)\n",
      "– Automat-panther(Trapi v1.5.0)\n",
      "– Automat-pharos(Trapi v1.5.0)\n",
      "– Automat-viral-proteome(Trapi v1.5.0)\n",
      "– COHD TRAPI\n",
      "– Connections Hypothesis Provider API\n",
      "– Clinical Trials KP - TRAPI 1.5.0\n",
      "– Microbiome KP - TRAPI 1.5.0\n",
      "– Multiomics KP - TRAPI 1.5.0\n"
     ]
    }
   ],
   "source": [
    "#Download the raw YAML and parse it\n",
    "url = \"https://raw.githubusercontent.com/biothings/bte-server/main/config/api_list.yaml\"\n",
    "resp = requests.get(url)\n",
    "resp.raise_for_status()\n",
    "text = resp.text\n",
    "\n",
    "data = yaml.safe_load(text)\n",
    "\n",
    "api_entries = data.get(\"include\", [])\n",
    "\n",
    "# Extract ids and names\n",
    "ids   = [entry[\"id\"]   for entry in api_entries if isinstance(entry, dict) and \"id\"   in entry]\n",
    "names = [entry[\"name\"] for entry in api_entries if isinstance(entry, dict) and \"name\" in entry]\n",
    "\n",
    "\n",
    "print(f\"Found {len(ids)} ids and {len(names)} names.\\n\")\n",
    "print(\"Names:\")\n",
    "for nm in names:\n",
    "    print(\"–\", nm)\n",
    "\n"
   ]
  },
  {
   "cell_type": "code",
   "execution_count": null,
   "id": "1ed5d6c9-7dda-4308-9843-382753f5fb89",
   "metadata": {},
   "outputs": [],
   "source": []
  },
  {
   "cell_type": "code",
   "execution_count": 13,
   "id": "15b764de-7c55-4410-aeeb-b5185ad14c6f",
   "metadata": {},
   "outputs": [],
   "source": [
    "import requests\n",
    "import yaml\n",
    "\n",
    "def fetch_infores_catalog(raw_url=None):\n",
    "    \"\"\"\n",
    "    Fetch and parse the infores_catalog.yaml from the Biolink GitHub repo.\n",
    "    Returns the parsed YAML doc\n",
    "    \"\"\"\n",
    "    if raw_url is None:\n",
    "        raw_url = (\n",
    "            \"https://raw.githubusercontent.com/\"\n",
    "            \"biolink/information-resource-registry/main/infores_catalog.yaml\"\n",
    "        )\n",
    "    resp = requests.get(raw_url)\n",
    "    resp.raise_for_status()\n",
    "    return yaml.safe_load(resp.text)\n",
    "\n",
    "def extract_infores_ids(catalog):\n",
    "    \"\"\"\n",
    "    Given the parsed YAML (catalog), find all 'id' fields in the infores entries.\n",
    "    Returns a list of all IDs and a set of unique IDs.\n",
    "    \"\"\"\n",
    "    \n",
    "    if isinstance(catalog, dict):\n",
    "        # common key patterns in LinkML‐generated YAML\n",
    "        for candidate in (\"information_resources\", \"infores\", \"infores_catalog\"):\n",
    "            if candidate in catalog:\n",
    "                entries = catalog[candidate]\n",
    "                break\n",
    "        else:\n",
    "            \n",
    "            entries = list(catalog.values())\n",
    "    elif isinstance(catalog, list):\n",
    "        entries = catalog\n",
    "    else:\n",
    "        raise ValueError(\"Unexpected YAML structure for infores catalog\")\n",
    "    \n",
    "    # Pull out all 'id' values\n",
    "    ids = []\n",
    "    for entry in entries:\n",
    "        if isinstance(entry, dict) and \"id\" in entry:\n",
    "            ids.append(entry[\"id\"])\n",
    "    unique_ids = set(ids)\n",
    "    return ids, unique_ids"
   ]
  },
  {
   "cell_type": "code",
   "execution_count": 14,
   "id": "c00cc748-541d-474f-867a-123a6afdc3c5",
   "metadata": {},
   "outputs": [
    {
     "name": "stdout",
     "output_type": "stream",
     "text": [
      "Total IDs: 444\n",
      "Unique IDs: 443\n"
     ]
    }
   ],
   "source": [
    "catalog = fetch_infores_catalog()\n",
    "all_ids, unique_ids = extract_infores_ids(catalog)\n",
    "\n",
    "print(f\"Total IDs: {len(all_ids)}\")\n",
    "print(f\"Unique IDs: {len(unique_ids)}\")"
   ]
  },
  {
   "cell_type": "code",
   "execution_count": 15,
   "id": "338a0f4c-13ff-4bc4-8a18-0965a498b3b7",
   "metadata": {},
   "outputs": [
    {
     "name": "stdout",
     "output_type": "stream",
     "text": [
      "Found 1 duplicate IDs:\n",
      "\n",
      "  • infores:catrax-pharmacogenomics appears 2 times\n"
     ]
    }
   ],
   "source": [
    "from collections import Counter\n",
    "\n",
    "id_counts = Counter(all_ids)\n",
    "\n",
    "# Extract only those IDs appearing more than once\n",
    "duplicate_ids = [iid for iid, cnt in id_counts.items() if cnt > 1]\n",
    "\n",
    "print(f\"Found {len(duplicate_ids)} duplicate IDs:\\n\")\n",
    "for iid in duplicate_ids:\n",
    "    print(f\"  • {iid} appears {id_counts[iid]} times\")"
   ]
  }
 ],
 "metadata": {
  "kernelspec": {
   "display_name": "Python 3 (ipykernel)",
   "language": "python",
   "name": "python3"
  },
  "language_info": {
   "codemirror_mode": {
    "name": "ipython",
    "version": 3
   },
   "file_extension": ".py",
   "mimetype": "text/x-python",
   "name": "python",
   "nbconvert_exporter": "python",
   "pygments_lexer": "ipython3",
   "version": "3.10.9"
  }
 },
 "nbformat": 4,
 "nbformat_minor": 5
}
