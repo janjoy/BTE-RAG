{
 "cells": [
  {
   "cell_type": "markdown",
   "id": "b09a5c2f",
   "metadata": {},
   "source": [
    "# Mechanistic genes data\n"
   ]
  },
  {
   "cell_type": "code",
   "execution_count": 11,
   "id": "8a9f0ca8",
   "metadata": {},
   "outputs": [],
   "source": [
    "import pandas as pd\n",
    "import numpy as np"
   ]
  },
  {
   "cell_type": "code",
   "execution_count": 12,
   "id": "0ad42a74",
   "metadata": {},
   "outputs": [
    {
     "name": "stdout",
     "output_type": "stream",
     "text": [
      "(1523, 17)\n"
     ]
    },
    {
     "data": {
      "text/html": [
       "<div>\n",
       "<style scoped>\n",
       "    .dataframe tbody tr th:only-of-type {\n",
       "        vertical-align: middle;\n",
       "    }\n",
       "\n",
       "    .dataframe tbody tr th {\n",
       "        vertical-align: top;\n",
       "    }\n",
       "\n",
       "    .dataframe thead th {\n",
       "        text-align: right;\n",
       "    }\n",
       "</style>\n",
       "<table border=\"1\" class=\"dataframe\">\n",
       "  <thead>\n",
       "    <tr style=\"text-align: right;\">\n",
       "      <th></th>\n",
       "      <th>idx</th>\n",
       "      <th>id</th>\n",
       "      <th>drug</th>\n",
       "      <th>Drug_MeshID</th>\n",
       "      <th>disease</th>\n",
       "      <th>protein</th>\n",
       "      <th>drug_name</th>\n",
       "      <th>disease_name</th>\n",
       "      <th>protein_name</th>\n",
       "      <th>protein_gene_symbol</th>\n",
       "      <th>nodes</th>\n",
       "      <th>n_nodes</th>\n",
       "      <th>n_edges</th>\n",
       "      <th>n_paths</th>\n",
       "      <th>metapath</th>\n",
       "      <th>metapath_with_edges</th>\n",
       "      <th>question</th>\n",
       "    </tr>\n",
       "  </thead>\n",
       "  <tbody>\n",
       "    <tr>\n",
       "      <th>0</th>\n",
       "      <td>0</td>\n",
       "      <td>DB00619_MESH_D015464_1</td>\n",
       "      <td>DB:DB00619</td>\n",
       "      <td>MESH:D000068877</td>\n",
       "      <td>MESH:D015464</td>\n",
       "      <td>UniProt:P00519</td>\n",
       "      <td>imatinib</td>\n",
       "      <td>Chronic myeloid leukemia</td>\n",
       "      <td>Tyrosine-protein kinase ABL1</td>\n",
       "      <td>ABL1</td>\n",
       "      <td>['MESH:D000068877', 'UniProt:P00519', 'MESH:D015464']</td>\n",
       "      <td>3</td>\n",
       "      <td>2</td>\n",
       "      <td>1</td>\n",
       "      <td>['Drug - Protein - Disease']</td>\n",
       "      <td>['Drug - decreases activity of - Protein - causes - Disease']</td>\n",
       "      <td>What gene is most mechanistically related to the indication of Drug imatinib to Disease Chronic myeloid leukemia?</td>\n",
       "    </tr>\n",
       "  </tbody>\n",
       "</table>\n",
       "</div>"
      ],
      "text/plain": [
       "   idx                      id        drug      Drug_MeshID       disease  \\\n",
       "0    0  DB00619_MESH_D015464_1  DB:DB00619  MESH:D000068877  MESH:D015464   \n",
       "\n",
       "          protein drug_name              disease_name  \\\n",
       "0  UniProt:P00519  imatinib  Chronic myeloid leukemia   \n",
       "\n",
       "                   protein_name protein_gene_symbol  \\\n",
       "0  Tyrosine-protein kinase ABL1                ABL1   \n",
       "\n",
       "                                                   nodes  n_nodes  n_edges  \\\n",
       "0  ['MESH:D000068877', 'UniProt:P00519', 'MESH:D015464']        3        2   \n",
       "\n",
       "   n_paths                      metapath  \\\n",
       "0        1  ['Drug - Protein - Disease']   \n",
       "\n",
       "                                             metapath_with_edges  \\\n",
       "0  ['Drug - decreases activity of - Protein - causes - Disease']   \n",
       "\n",
       "                                                                                                            question  \n",
       "0  What gene is most mechanistically related to the indication of Drug imatinib to Disease Chronic myeloid leukemia?  "
      ]
     },
     "execution_count": 12,
     "metadata": {},
     "output_type": "execute_result"
    }
   ],
   "source": [
    "drugmechdb_filtered_df = pd.read_csv(\"data/benchmark_data/drugmechDB_mechanistic_genes_df.csv\")\n",
    "print(drugmechdb_filtered_df.shape)\n",
    "drugmechdb_filtered_df.head(1)"
   ]
  },
  {
   "cell_type": "code",
   "execution_count": 12,
   "id": "e31378df",
   "metadata": {},
   "outputs": [
    {
     "name": "stdout",
     "output_type": "stream",
     "text": [
      "0\n"
     ]
    },
    {
     "data": {
      "text/plain": [
       "(1267, 17)"
      ]
     },
     "execution_count": 12,
     "metadata": {},
     "output_type": "execute_result"
    }
   ],
   "source": [
    "# find how many rows have protein_gene_symbol as NaN \n",
    "print(drugmechdb_filtered_df[\"protein_gene_symbol\"].isnull().sum())\n",
    "# remove rows where protein_gene_symbol is NaN\n",
    "drugmechdb_filtered_df = drugmechdb_filtered_df.dropna(subset=[\"protein_gene_symbol\"])\n",
    "drugmechdb_filtered_df.shape"
   ]
  },
  {
   "cell_type": "code",
   "execution_count": null,
   "id": "e2cef609",
   "metadata": {},
   "outputs": [
    {
     "data": {
      "text/plain": [
       "Index(['idx', 'id', 'drug', 'Drug_MeshID', 'disease', 'protein', 'drug_name',\n",
       "       'disease_name', 'protein_name', 'protein_gene_symbol', 'nodes',\n",
       "       'n_nodes', 'n_edges', 'n_paths', 'metapath', 'metapath_with_edges',\n",
       "       'question'],\n",
       "      dtype='object')"
      ]
     },
     "metadata": {},
     "output_type": "display_data"
    }
   ],
   "source": [
    "drugmechdb_filtered_df.columns"
   ]
  },
  {
   "cell_type": "code",
   "execution_count": 13,
   "id": "5b219b75",
   "metadata": {},
   "outputs": [
    {
     "data": {
      "text/plain": [
       "n_nodes\n",
       "3      12\n",
       "4     130\n",
       "5     389\n",
       "6     416\n",
       "7     245\n",
       "8      60\n",
       "9      12\n",
       "11      2\n",
       "13      1\n",
       "Name: count, dtype: int64"
      ]
     },
     "execution_count": 13,
     "metadata": {},
     "output_type": "execute_result"
    }
   ],
   "source": [
    "drugmechdb_filtered_df[\"n_nodes\"].value_counts().sort_index()"
   ]
  },
  {
   "cell_type": "code",
   "execution_count": 14,
   "id": "f56b3927",
   "metadata": {},
   "outputs": [
    {
     "name": "stdout",
     "output_type": "stream",
     "text": [
      "shape of filtered_df: (1267, 17)\n",
      "shape of grouped_with_genes: (1207, 10)\n"
     ]
    }
   ],
   "source": [
    "# for BTE ID matching and query\n",
    "drugmechdb_filtered_df[\"Drug_MeshID\"] = drugmechdb_filtered_df[\"Drug_MeshID\"].str.replace(r\"^DB:\", \"DRUGBANK:\", regex=True)\n",
    "\n",
    "# Filter out rows with missing protein_gene_symbol values\n",
    "filtered_df = drugmechdb_filtered_df.dropna(subset=[\"protein_gene_symbol\"])\n",
    "print(\"shape of filtered_df:\",filtered_df.shape)\n",
    "\n",
    "# Group by disease and Drug_MeshID and aggregate the required columns\n",
    "grouped_with_genes = (\n",
    "    filtered_df.groupby([\"disease\", \"Drug_MeshID\"])\n",
    "    .agg({\n",
    "        \"protein_gene_symbol\": lambda x: list(set(x)),  # Concatenate unique gene symbols\n",
    "        \"id\": lambda x: list(set(x)),  # Concatenate IDs into a list\n",
    "        \"protein\": lambda x: list(set(x)),  # Concatenate proteins into a list\n",
    "        \"protein_name\": lambda x: list(set(x)),  # Concatenate protein names into a list\n",
    "        \"drug\": \"first\",  # Take the first value for drug (assuming it's the same per group)\n",
    "        \"drug_name\": \"first\",  # Take the first value for drug_name\n",
    "        \"disease_name\": \"first\",  # Take the first value for disease_name\n",
    "        \"question\": \"first\",  # Take the first value for the question\n",
    "    })\n",
    "    .reset_index()\n",
    ")\n",
    "print(\"shape of grouped_with_genes:\",grouped_with_genes.shape)\n",
    "\n",
    "# Add a count column \n",
    "grouped_with_genes[\"count\"] = grouped_with_genes[\"protein_gene_symbol\"].apply(len)\n",
    "\n",
    "# Select only the specified columns for the final DataFrame\n",
    "final_df = grouped_with_genes[\n",
    "    [\n",
    "        \"id\",\n",
    "        \"drug\",\n",
    "        \"Drug_MeshID\",\n",
    "        \"disease\",\n",
    "        \"protein\",\n",
    "        \"drug_name\",\n",
    "        \"disease_name\",\n",
    "        \"protein_name\",\n",
    "        \"protein_gene_symbol\",\n",
    "        \"question\",\n",
    "        \"count\",  \n",
    "        \n",
    "    ]\n",
    "]\n"
   ]
  },
  {
   "cell_type": "code",
   "execution_count": 15,
   "id": "3f6557a2",
   "metadata": {},
   "outputs": [
    {
     "data": {
      "text/plain": [
       "count\n",
       "1    1183\n",
       "2      14\n",
       "3       7\n",
       "6       1\n",
       "4       1\n",
       "5       1\n",
       "Name: count, dtype: int64"
      ]
     },
     "execution_count": 15,
     "metadata": {},
     "output_type": "execute_result"
    }
   ],
   "source": [
    "final_df[\"count\"].value_counts()"
   ]
  },
  {
   "cell_type": "code",
   "execution_count": 16,
   "id": "3172a0e7",
   "metadata": {},
   "outputs": [
    {
     "data": {
      "text/html": [
       "<div>\n",
       "<style scoped>\n",
       "    .dataframe tbody tr th:only-of-type {\n",
       "        vertical-align: middle;\n",
       "    }\n",
       "\n",
       "    .dataframe tbody tr th {\n",
       "        vertical-align: top;\n",
       "    }\n",
       "\n",
       "    .dataframe thead th {\n",
       "        text-align: right;\n",
       "    }\n",
       "</style>\n",
       "<table border=\"1\" class=\"dataframe\">\n",
       "  <thead>\n",
       "    <tr style=\"text-align: right;\">\n",
       "      <th></th>\n",
       "      <th>id</th>\n",
       "      <th>drug</th>\n",
       "      <th>Drug_MeshID</th>\n",
       "      <th>disease</th>\n",
       "      <th>protein</th>\n",
       "      <th>drug_name</th>\n",
       "      <th>disease_name</th>\n",
       "      <th>protein_name</th>\n",
       "      <th>protein_gene_symbol</th>\n",
       "      <th>question</th>\n",
       "      <th>count</th>\n",
       "    </tr>\n",
       "  </thead>\n",
       "  <tbody>\n",
       "    <tr>\n",
       "      <th>749</th>\n",
       "      <td>[DB00508_MESH_D011618_1, DB00508_MESH_D011618_...</td>\n",
       "      <td>DB:DB00508</td>\n",
       "      <td>MESH:D014273</td>\n",
       "      <td>MESH:D011618</td>\n",
       "      <td>[UniProt:P14416, UniProt:P21728, UniProt:P1122...</td>\n",
       "      <td>Triflupromazine</td>\n",
       "      <td>Psychotic Disorders</td>\n",
       "      <td>[Muscarinic acetylcholine receptor M2, D(2) do...</td>\n",
       "      <td>[CHRM1, HTR2B, DRD2, DRD1, CHRM2]</td>\n",
       "      <td>What gene is most mechanistically related to t...</td>\n",
       "      <td>5</td>\n",
       "    </tr>\n",
       "  </tbody>\n",
       "</table>\n",
       "</div>"
      ],
      "text/plain": [
       "                                                    id        drug  \\\n",
       "749  [DB00508_MESH_D011618_1, DB00508_MESH_D011618_...  DB:DB00508   \n",
       "\n",
       "      Drug_MeshID       disease  \\\n",
       "749  MESH:D014273  MESH:D011618   \n",
       "\n",
       "                                               protein        drug_name  \\\n",
       "749  [UniProt:P14416, UniProt:P21728, UniProt:P1122...  Triflupromazine   \n",
       "\n",
       "            disease_name                                       protein_name  \\\n",
       "749  Psychotic Disorders  [Muscarinic acetylcholine receptor M2, D(2) do...   \n",
       "\n",
       "                   protein_gene_symbol  \\\n",
       "749  [CHRM1, HTR2B, DRD2, DRD1, CHRM2]   \n",
       "\n",
       "                                              question  count  \n",
       "749  What gene is most mechanistically related to t...      5  "
      ]
     },
     "execution_count": 16,
     "metadata": {},
     "output_type": "execute_result"
    }
   ],
   "source": [
    "final_df[final_df[\"count\"]==5].head(5)"
   ]
  },
  {
   "cell_type": "code",
   "execution_count": 17,
   "id": "8f300ec0",
   "metadata": {},
   "outputs": [],
   "source": [
    "# Question generation \n",
    "final_df = final_df.copy()\n",
    "final_df.loc[:, 'question_V3'] = final_df.apply(\n",
    "    lambda row: f\"Which gene plays the most significant mechanistic role in how Drug {row['drug_name']} treats or impacts the Disease {row['disease_name']}?\",\n",
    "    axis=1\n",
    ")"
   ]
  },
  {
   "cell_type": "code",
   "execution_count": 18,
   "id": "f1ada560",
   "metadata": {},
   "outputs": [
    {
     "data": {
      "text/html": [
       "<div>\n",
       "<style scoped>\n",
       "    .dataframe tbody tr th:only-of-type {\n",
       "        vertical-align: middle;\n",
       "    }\n",
       "\n",
       "    .dataframe tbody tr th {\n",
       "        vertical-align: top;\n",
       "    }\n",
       "\n",
       "    .dataframe thead th {\n",
       "        text-align: right;\n",
       "    }\n",
       "</style>\n",
       "<table border=\"1\" class=\"dataframe\">\n",
       "  <thead>\n",
       "    <tr style=\"text-align: right;\">\n",
       "      <th></th>\n",
       "      <th>id</th>\n",
       "      <th>drug</th>\n",
       "      <th>Drug_MeshID</th>\n",
       "      <th>disease</th>\n",
       "      <th>protein</th>\n",
       "      <th>drug_name</th>\n",
       "      <th>disease_name</th>\n",
       "      <th>protein_name</th>\n",
       "      <th>protein_gene_symbol</th>\n",
       "      <th>question</th>\n",
       "      <th>count</th>\n",
       "      <th>question_V3</th>\n",
       "    </tr>\n",
       "  </thead>\n",
       "  <tbody>\n",
       "    <tr>\n",
       "      <th>0</th>\n",
       "      <td>[DB01219_MESH_C535694_1]</td>\n",
       "      <td>DB:DB01219</td>\n",
       "      <td>MESH:D003620</td>\n",
       "      <td>MESH:C535694</td>\n",
       "      <td>[UniProt:P21817]</td>\n",
       "      <td>Dantrolene</td>\n",
       "      <td>Malignant hyperthermia</td>\n",
       "      <td>[Ryanodine receptor 1]</td>\n",
       "      <td>[RYR1]</td>\n",
       "      <td>What gene is most mechanistically related to t...</td>\n",
       "      <td>1</td>\n",
       "      <td>Which gene plays the most significant mechanis...</td>\n",
       "    </tr>\n",
       "  </tbody>\n",
       "</table>\n",
       "</div>"
      ],
      "text/plain": [
       "                         id        drug   Drug_MeshID       disease  \\\n",
       "0  [DB01219_MESH_C535694_1]  DB:DB01219  MESH:D003620  MESH:C535694   \n",
       "\n",
       "            protein   drug_name            disease_name  \\\n",
       "0  [UniProt:P21817]  Dantrolene  Malignant hyperthermia   \n",
       "\n",
       "             protein_name protein_gene_symbol  \\\n",
       "0  [Ryanodine receptor 1]              [RYR1]   \n",
       "\n",
       "                                            question  count  \\\n",
       "0  What gene is most mechanistically related to t...      1   \n",
       "\n",
       "                                         question_V3  \n",
       "0  Which gene plays the most significant mechanis...  "
      ]
     },
     "execution_count": 18,
     "metadata": {},
     "output_type": "execute_result"
    }
   ],
   "source": [
    "final_df.head(1)"
   ]
  },
  {
   "cell_type": "code",
   "execution_count": 19,
   "id": "0bbff1fc",
   "metadata": {},
   "outputs": [
    {
     "data": {
      "text/plain": [
       "(1206, 2)"
      ]
     },
     "execution_count": 19,
     "metadata": {},
     "output_type": "execute_result"
    }
   ],
   "source": [
    "final_df[[\"drug_name\", \"disease_name\"]].drop_duplicates().shape"
   ]
  },
  {
   "cell_type": "code",
   "execution_count": 20,
   "id": "08086e77",
   "metadata": {},
   "outputs": [
    {
     "name": "stdout",
     "output_type": "stream",
     "text": [
      "shape of final_df after dropping duplicates: (1206, 12)\n"
     ]
    }
   ],
   "source": [
    "final_df = final_df.drop_duplicates(subset=[\"drug_name\", \"disease_name\"])\n",
    "print(\"shape of final_df after dropping duplicates:\", final_df.shape)"
   ]
  },
  {
   "cell_type": "code",
   "execution_count": 21,
   "id": "228dcc0d",
   "metadata": {},
   "outputs": [
    {
     "data": {
      "text/plain": [
       "count\n",
       "1        1182\n",
       "2          14\n",
       "3           7\n",
       "4           1\n",
       "5           1\n",
       "6           1\n",
       "Name: count, dtype: int64"
      ]
     },
     "execution_count": 21,
     "metadata": {},
     "output_type": "execute_result"
    }
   ],
   "source": [
    "final_df[[\"count\"]].value_counts().sort_index()"
   ]
  },
  {
   "cell_type": "code",
   "execution_count": 22,
   "id": "2d8e775e",
   "metadata": {},
   "outputs": [
    {
     "name": "stdout",
     "output_type": "stream",
     "text": [
      "shape of final_df_count_1: (1182, 12)\n"
     ]
    }
   ],
   "source": [
    "#select only the rows where count is 1\n",
    "final_df_count_1 = final_df[final_df[\"count\"] == 1]\n",
    "final_df_count_1 = final_df_count_1.reset_index(drop=True)\n",
    "print(\"shape of final_df_count_1:\", final_df_count_1.shape)"
   ]
  },
  {
   "cell_type": "code",
   "execution_count": 23,
   "id": "bd7b550b",
   "metadata": {},
   "outputs": [
    {
     "data": {
      "text/plain": [
       "disease_name\n",
       "1     338\n",
       "2      94\n",
       "3      33\n",
       "4      27\n",
       "6      23\n",
       "5      13\n",
       "8       9\n",
       "7       9\n",
       "9       2\n",
       "11      2\n",
       "59      1\n",
       "12      1\n",
       "Name: count, dtype: int64"
      ]
     },
     "execution_count": 23,
     "metadata": {},
     "output_type": "execute_result"
    }
   ],
   "source": [
    "# find for each drug how many diseases it is associated with\n",
    "drug_disease_counts = final_df_count_1.groupby(\"drug_name\")[\"disease_name\"].nunique().reset_index()\n",
    "drug_disease_counts[\"disease_name\"].value_counts()"
   ]
  },
  {
   "cell_type": "code",
   "execution_count": 24,
   "id": "d19a4afd",
   "metadata": {},
   "outputs": [
    {
     "data": {
      "text/plain": [
       "798"
      ]
     },
     "execution_count": 24,
     "metadata": {},
     "output_type": "execute_result"
    }
   ],
   "source": [
    "338+94+94+33+33+33+27+27+27+27+13+13+13+13+13"
   ]
  },
  {
   "cell_type": "code",
   "execution_count": 25,
   "id": "592fd0d6",
   "metadata": {},
   "outputs": [
    {
     "name": "stdout",
     "output_type": "stream",
     "text": [
      "shape of final_df_count_1_filtered: (798, 12)\n"
     ]
    }
   ],
   "source": [
    "# from final_df select only the rows where count is 1 and drug_name is in the drug_disease_counts with disease_name <6\n",
    "final_df_count_1_filtered = final_df_count_1[\n",
    "    final_df_count_1[\"drug_name\"].isin(drug_disease_counts[drug_disease_counts[\"disease_name\"] < 6][\"drug_name\"])\n",
    "]\n",
    "print(\"shape of final_df_count_1_filtered:\", final_df_count_1_filtered.shape)"
   ]
  },
  {
   "cell_type": "code",
   "execution_count": 26,
   "id": "8e0798a1",
   "metadata": {},
   "outputs": [],
   "source": [
    "# save the final DataFrame to a CSV file\n",
    "final_df_count_1_filtered.to_csv(\n",
    "    \"data/DMDB_questions_sampled/drugmechDB_mechanistic_genes_df_final_single_count_798qa.csv\", index=False\n",
    ")"
   ]
  },
  {
   "cell_type": "code",
   "execution_count": 3776,
   "id": "1cda0280",
   "metadata": {},
   "outputs": [
    {
     "data": {
      "text/html": [
       "<div>\n",
       "<style scoped>\n",
       "    .dataframe tbody tr th:only-of-type {\n",
       "        vertical-align: middle;\n",
       "    }\n",
       "\n",
       "    .dataframe tbody tr th {\n",
       "        vertical-align: top;\n",
       "    }\n",
       "\n",
       "    .dataframe thead th {\n",
       "        text-align: right;\n",
       "    }\n",
       "</style>\n",
       "<table border=\"1\" class=\"dataframe\">\n",
       "  <thead>\n",
       "    <tr style=\"text-align: right;\">\n",
       "      <th></th>\n",
       "      <th>id</th>\n",
       "      <th>drug</th>\n",
       "      <th>Drug_MeshID</th>\n",
       "      <th>disease</th>\n",
       "      <th>protein</th>\n",
       "      <th>drug_name</th>\n",
       "      <th>disease_name</th>\n",
       "      <th>protein_name</th>\n",
       "      <th>protein_gene_symbol</th>\n",
       "      <th>question</th>\n",
       "      <th>count</th>\n",
       "      <th>question_V3</th>\n",
       "    </tr>\n",
       "  </thead>\n",
       "  <tbody>\n",
       "    <tr>\n",
       "      <th>0</th>\n",
       "      <td>[DB01219_MESH_C535694_1]</td>\n",
       "      <td>DB:DB01219</td>\n",
       "      <td>MESH:D003620</td>\n",
       "      <td>MESH:C535694</td>\n",
       "      <td>[UniProt:P21817]</td>\n",
       "      <td>Dantrolene</td>\n",
       "      <td>Malignant hyperthermia</td>\n",
       "      <td>[Ryanodine receptor 1]</td>\n",
       "      <td>[RYR1]</td>\n",
       "      <td>What gene is most mechanistically related to the indication of Drug Dantrolene to Disease Malignant hyperthermia?</td>\n",
       "      <td>1</td>\n",
       "      <td>Which gene plays the most significant mechanistic role in how Drug Dantrolene treats or impacts the Disease Malignant hyperthermia?</td>\n",
       "    </tr>\n",
       "  </tbody>\n",
       "</table>\n",
       "</div>"
      ],
      "text/plain": [
       "                         id        drug   Drug_MeshID       disease           protein   drug_name            disease_name            protein_name protein_gene_symbol                                                                                                           question  count                                                                                                                          question_V3\n",
       "0  [DB01219_MESH_C535694_1]  DB:DB01219  MESH:D003620  MESH:C535694  [UniProt:P21817]  Dantrolene  Malignant hyperthermia  [Ryanodine receptor 1]              [RYR1]  What gene is most mechanistically related to the indication of Drug Dantrolene to Disease Malignant hyperthermia?      1  Which gene plays the most significant mechanistic role in how Drug Dantrolene treats or impacts the Disease Malignant hyperthermia?"
      ]
     },
     "execution_count": 3776,
     "metadata": {},
     "output_type": "execute_result"
    }
   ],
   "source": [
    "final_df_count_1_filtered.head(1)"
   ]
  },
  {
   "cell_type": "code",
   "execution_count": 3780,
   "id": "dfc107a9",
   "metadata": {},
   "outputs": [
    {
     "name": "stdout",
     "output_type": "stream",
     "text": [
      "shape of random_sample: (500, 12)\n"
     ]
    }
   ],
   "source": [
    "#set seed and select random 500 from final_df_count_1_filtered\n",
    "import pandas as pd\n",
    "import numpy as np\n",
    "np.random.seed(42)\n",
    "random_sample = final_df_count_1_filtered.sample(n=500, random_state=42).reset_index(drop=True)\n",
    "print(\"shape of random_sample:\", random_sample.shape)\n",
    "# Save the final DataFrame to a CSV file\n",
    "random_sample.to_csv(\"data/DMDB_questions_sampled/drugmechDB_mechanistic_genes_df_final_single_count_1.csv\", index=False)\n"
   ]
  },
  {
   "cell_type": "markdown",
   "id": "22ea30ff",
   "metadata": {},
   "source": [
    "## BTE querying format"
   ]
  },
  {
   "cell_type": "code",
   "execution_count": 2937,
   "id": "b1b9eccd",
   "metadata": {},
   "outputs": [
    {
     "data": {
      "text/plain": [
       "Drug_MeshID       drug_name                           \n",
       "MESH:D003907      dexamethasone                           59\n",
       "MESH:D010632      pheniramine                             12\n",
       "MESH:D000068656   mometasone furoate                      11\n",
       "MESH:D000068298   fluticasone propionate                  11\n",
       "MESH:D011395      promazine                                9\n",
       "MESH:C531958      lenvatinib                               9\n",
       "MESH:D004809      Ephedrine                                9\n",
       "MESH:D004319      doxylamine                               9\n",
       "MESH:D003501      cyclizine                                8\n",
       "MESH:D003915      dextromethorphan                         8\n",
       "MESH:C004649      carbinoxamine                            8\n",
       "MESH:D017374      Paroxetine                               8\n",
       "MESH:C006656      azatadine                                8\n",
       "MESH:D006206      halcinonide                              8\n",
       "MESH:D002927      Cimetidine                               8\n",
       "MESH:D000069470   venlafaxine                              8\n",
       "MESH:D013726      terbutaline                              8\n",
       "MESH:D014750      Vincristine                              8\n",
       "MESH:D016593      Terfenadine                              8\n",
       "MESH:D015738      Famotidine                               7\n",
       "MESH:D014311      triprolidine                             7\n",
       "MESH:D014273      Triflupromazine                          7\n",
       "MESH:D016567      nizatidine                               7\n",
       "MESH:D005473      fluoxetine                               7\n",
       "MESH:C084597      chlorcyclizine                           7\n",
       "MESH:C121345      desloratadine                            7\n",
       "MESH:D000068879   adalimumab                               7\n",
       "MESH:D010665      Phenylpropanolamine                      7\n",
       "MESH:D011464      epoprostenol                             6\n",
       "MESH:C044642      methdilazine                             6\n",
       "MESH:D014309      tripelennamine                           6\n",
       "MESH:D064750      rabeprazole                              6\n",
       "MESH:C005370      Tramazoline                              6\n",
       "DRUGBANK:DB00153  ergocalciferol                           6\n",
       "MESH:D013739      Testosterone                             6\n",
       "MESH:D015764      Bepridil                                 6\n",
       "MESH:D000069059   atorvastatin                             6\n",
       "MESH:D014859      warfarin                                 6\n",
       "MESH:D015377      Cilastatin                               6\n",
       "MESH:C116926      Rofecoxib                                6\n",
       "MESH:D009853      Omeprazole                               6\n",
       "MESH:D008148      lovastatin                               6\n",
       "MESH:D008701      methapyrilene                            6\n",
       "MESH:D000865      Antazoline                               6\n",
       "MESH:D011899      ranitidine                               6\n",
       "MESH:D001977      Brompheniramine                          6\n",
       "MESH:D000527      Alprostadil                              6\n",
       "MESH:D020280      sertraline                               6\n",
       "MESH:D002974      clementine                               6\n",
       "MESH:D054199      Pseudoephedrine                          6\n",
       "DRUGBANK:DB01246  alimemazine                              6\n",
       "MESH:D017336      loratadine                               6\n",
       "MESH:D017332      cetirizine                               6\n",
       "MESH:C005430      Phenindamine                             6\n",
       "MESH:C009871      diphenylpyraline                         6\n",
       "MESH:D019821      Simvastatin                              5\n",
       "MESH:D019832      Methscopolamine                          5\n",
       "MESH:D064747      lansoprazole                             5\n",
       "MESH:C093230      fexofenadine                             5\n",
       "MESH:D005474      Fluoxymesterone                          5\n",
       "DRUGBANK:DB00394  Beclomethasone dipropionate              5\n",
       "MESH:D000068579   celecoxib                                5\n",
       "MESH:C014481      dihydrocodeine                           5\n",
       "MESH:D000069285   Infliximab                               5\n",
       "MESH:D003533      Cyproheptadine                           5\n",
       "MESH:C018904      Dexchlorpheniramine                      5\n",
       "MESH:D006918      Hydroxycarbamide                         5\n",
       "MESH:D000069438   ezetimibe                                4\n",
       "MESH:D043343      Testosterone propionate                  4\n",
       "MESH:D064098      esomeprazole                             4\n",
       "MESH:D002990      Clobetasol                               4\n",
       "MESH:D002117      calcitriol                               4\n",
       "MESH:D002112      calcifediol                              4\n",
       "MESH:D004111      dimenhydrinate                           4\n",
       "MESH:D004205      cromoglicic acid                         4\n",
       "MESH:C115647      eletriptan                               4\n",
       "MESH:D004997      Ethinylestradiol                         4\n",
       "MESH:D009638      Norepinephrine                           4\n",
       "MESH:C064276      Pantoprazole                             4\n",
       "MESH:D011398      promethazine                             4\n",
       "MESH:D002746      chlorpromazine                           4\n",
       "MESH:D002744      Chlorphenamine                           4\n",
       "MESH:D001712      biperiden                                4\n",
       "MESH:D001728      dicoumarol                               4\n",
       "MESH:D002047      Buprenorphine                            4\n",
       "MESH:D013148      spironolactone                           4\n",
       "MESH:D011738      mepyramine                               4\n",
       "MESH:C047781      lamotrigine                              4\n",
       "MESH:D000547      Amantadine                               4\n",
       "MESH:D014282      trihexyphenidyl                          4\n",
       "MESH:C010432      Clofedanol                               4\n",
       "MESH:D000068877   imatinib                                 4\n",
       "UniProt:P42345    Serine/threonine-protein kinase mTOR     4\n",
       "MESH:C015121      Dexbrompheniramine                       3\n",
       "MESH:D000069283   rituximab                                3\n",
       "MESH:D000069447   tiotropium bromide                       3\n",
       "MESH:D000068581   tadalafil                                3\n",
       "MESH:D000068582   Certolizumab pegol                       3\n",
       "MESH:D000068677   Sildenafil                               3\n",
       "MESH:D014751      Vindesine                                3\n",
       "MESH:D014812      vitamin k                                3\n",
       "MESH:D016572      ciclosporin                              3\n",
       "MESH:D016589      Astemizole                               3\n",
       "MESH:D014635      valproic acid                            3\n",
       "MESH:C053742      Roxatidine acetate                       3\n",
       "MESH:C056493      imiquimod                                3\n",
       "MESH:D010644      phenprocoumon                            3\n",
       "MESH:D010111      oxymorphone                              3\n",
       "MESH:C065180      fluvastatin                              3\n",
       "MESH:C065757      Meloxicam                                3\n",
       "MESH:D000077206   Gabapentin                               3\n",
       "MESH:D000493      allopurinol                              3\n",
       "MESH:C529000      Golimumab                                3\n",
       "MESH:C551803      ibrutinib                                3\n",
       "MESH:D009543      Nifedipine                               3\n",
       "MESH:D009640      Norethisterone                           3\n",
       "MESH:D007556      Isoxsuprine                              3\n",
       "MESH:D007980      levodopa                                 3\n",
       "MESH:D000657      amoxapine                                3\n",
       "MESH:D002230      carbidopa                                3\n",
       "MESH:C100294      phendimetrazine                          3\n",
       "MESH:D006220      haloperidol                              3\n",
       "MESH:D003981      diazoxide                                3\n",
       "MESH:D004155      Diphenhydramine                          3\n",
       "MESH:D002762      Colecalciferol                           3\n",
       "MESH:D002738      chloroquine                              3\n",
       "MESH:C415771      Metreleptin                              3\n",
       "MESH:C009118      Pirbuterol                               3\n",
       "MESH:D019382      somatropin                               3\n",
       "DRUGBANK:DB00396  Progesterone                             3\n",
       "DRUGBANK:DB01274  Arformoterol                             3\n",
       "DRUGBANK:DB00007  leuprorelin                              2\n",
       "DRUGBANK:DB04844  Tetrabenazine                            2\n",
       "DRUGBANK:DB09351  Levobetaxolol                            2\n",
       "MESH:D000074      Acenocoumarol                            2\n",
       "MESH:C045463      Leflunomide                              2\n",
       "MESH:D015283      Citalopram                               2\n",
       "MESH:D015784      betaxolol                                2\n",
       "MESH:D016316      Guanfacine                               2\n",
       "MESH:D000069439   Dasatinib                                2\n",
       "MESH:D000069442   Natalizumab                              2\n",
       "MESH:D000069444   omalizumab                               2\n",
       "MESH:D019808      Losartan                                 2\n",
       "MESH:D002231      carbimazole                              2\n",
       "MESH:D002752      Chlortalidone                            2\n",
       "MESH:C119615      ilaprazole                               2\n",
       "MESH:C411345      Bemiparin                                2\n",
       "MESH:C445659      bilastine                                2\n",
       "MESH:C472067      Levocetirizine                           2\n",
       "MESH:C485333      Tafluprost                               2\n",
       "MESH:C493250      Gabapentin enacarbil                     2\n",
       "MESH:D003620      Dantrolene                               2\n",
       "MESH:D003894      Desmopressin                             2\n",
       "MESH:C100416      peginterferon alfa-2a                    2\n",
       "MESH:C108475      Pitavastatin                             2\n",
       "MESH:C111827      brinzolamide                             2\n",
       "MESH:C116664      tolvaptan                                2\n",
       "MESH:C116963      belotecan                                2\n",
       "MESH:C119141      ospemifene                               2\n",
       "MESH:D004028      dienestrol                               2\n",
       "MESH:C084615      Alclofenac                               2\n",
       "MESH:C086276      Cerivastatin                             2\n",
       "MESH:C100129      Phensuximide                             2\n",
       "MESH:C100146      Trimethobenzamide                        2\n",
       "MESH:C100286      methsuximide                             2\n",
       "MESH:D004837      Epinephrine                              2\n",
       "MESH:D005047      etoposide                                2\n",
       "MESH:D006852      Hydrochlorothiazide                      2\n",
       "MESH:C552171      Edoxaban                                 2\n",
       "MESH:C552946      Idelalisib                               2\n",
       "MESH:C552956      Vonoprazan                               2\n",
       "MESH:C571059      alirocumab                               2\n",
       "MESH:D001553      benzbromarone                            2\n",
       "MESH:D002040      levobunolol                              2\n",
       "MESH:D006919      Hydroxyzine                              2\n",
       "MESH:D007190      Indapamide                               2\n",
       "MESH:D007328      Insulin human                            2\n",
       "MESH:D008090      Lisuride                                 2\n",
       "MESH:D008468      meclozine                                2\n",
       "MESH:D008525      Medroxyprogesterone                      2\n",
       "MESH:D008692      acetylmethadol                           2\n",
       "MESH:D008736      Methylclothiazide                        2\n",
       "MESH:D008777      methyltestosterone                       2\n",
       "MESH:D008788      Metolazone                               2\n",
       "MESH:D009388      Neostigmine                              2\n",
       "MESH:D009921      Orciprenaline                            2\n",
       "MESH:D000077144   Clopidogrel                              2\n",
       "MESH:D000077547   Crizotinib                               2\n",
       "MESH:D000112      acetyldigitoxin                          2\n",
       "MESH:C503700      Ticagrelor                               2\n",
       "MESH:D010110      oxymetholone                             2\n",
       "MESH:C067594      butenafine                               2\n",
       "MESH:C072042      Latanoprost                              2\n",
       "MESH:C076170      mizolastine                              2\n",
       "MESH:C079703      rufinamide                               2\n",
       "MESH:C081309      Irbesartan                               2\n",
       "MESH:D010464      Perazine                                 2\n",
       "MESH:D010830      Physostigmine                            2\n",
       "MESH:D011345      Fenofibrate                              2\n",
       "MESH:D011441      propylthiouracil                         2\n",
       "MESH:D011800      quinestrol                               2\n",
       "MESH:D012110      reserpine                                2\n",
       "MESH:D012601      Scopolamine                              2\n",
       "MESH:C047340      levocabastine                            2\n",
       "MESH:C047681      pranlukast                               2\n",
       "MESH:C058249      ebastine                                 2\n",
       "MESH:C059896      miglustat                                2\n",
       "MESH:C062765      dorzolamide                              2\n",
       "MESH:D014293      trimethadione                            2\n",
       "MESH:C026116      torsemide                                2\n",
       "MESH:C028815      Calcitonin (salmon synthetic)            2\n",
       "MESH:C034364      ozagrel                                  2\n",
       "MESH:C036604      esmolol                                  2\n",
       "MESH:C043345      Emedastine                               2\n",
       "MESH:C043648      acrivastine                              2\n",
       "MESH:D000069448   denosumab                                2\n",
       "MESH:D000069503   vilazodone                               2\n",
       "MESH:D000069549   ustekinumab                              2\n",
       "MESH:D000069557   Travoprost                               2\n",
       "MESH:D000069583   Pregabalin                               2\n",
       "MESH:D000069585   Filgrastim                               2\n",
       "MESH:D000070      Acebutolol                               2\n",
       "MESH:D016666      fluvoxamine                              2\n",
       "MESH:D017257      ramipril                                 2\n",
       "MESH:C010893      clobetasone butyrate                     2\n",
       "MESH:C011410      bromazine                                2\n",
       "MESH:C015451      Piretanide                               2\n",
       "MESH:C016671      Vasopressin                              2\n",
       "MESH:C020731      Carbetocin                               2\n",
       "DRUGBANK:DB12710  Perazine                                 2\n",
       "MESH:C000609138   Avelumab                                 2\n",
       "MESH:D020372      dexfenfluramine                          2\n",
       "MESH:D053590      Anakinra                                 2\n",
       "MESH:D061268      insulin lispro                           2\n",
       "MESH:C005386      Tridihexethyl                            2\n",
       "MESH:C005553      Crotamiton                               2\n",
       "MESH:C010809      tulobuterol                              2\n",
       "MESH:D019772      topotecan                                2\n",
       "Name: count, dtype: int64"
      ]
     },
     "execution_count": 2937,
     "metadata": {},
     "output_type": "execute_result"
    }
   ],
   "source": [
    "df_drug = drugmechdb_filtered_df[[\"Drug_MeshID\", \"drug_name\"]]\n",
    "\n",
    "df_drug[df_drug.duplicated(keep=False)].value_counts()"
   ]
  },
  {
   "cell_type": "code",
   "execution_count": 2943,
   "id": "0db72711",
   "metadata": {},
   "outputs": [
    {
     "name": "stdout",
     "output_type": "stream",
     "text": [
      "Number of unique drugs 571\n",
      "Number of unique diseases 366\n",
      "Number of unique drug-disease pairs 1267\n",
      "Number of unique drugs and diseases 1207\n"
     ]
    }
   ],
   "source": [
    "drugmechdb_drug = drugmechdb_filtered_df[[\"Drug_MeshID\", \"drug_name\"]].drop_duplicates()\n",
    "drugmechdb_disease = drugmechdb_filtered_df[[\"disease\", \"disease_name\"]].drop_duplicates()\n",
    "print(\"Number of unique drugs\",drugmechdb_drug.shape[0])\n",
    "print(\"Number of unique diseases\",drugmechdb_disease.shape[0])\n",
    "print(\"Number of unique drug-disease pairs\",drugmechdb_filtered_df.shape[0])\n",
    "print(\"Number of unique drugs and diseases\", drugmechdb_filtered_df[[\"Drug_MeshID\", \"disease\"]].drop_duplicates().shape[0])"
   ]
  },
  {
   "cell_type": "code",
   "execution_count": null,
   "id": "8165f1fc",
   "metadata": {},
   "outputs": [
    {
     "data": {
      "text/plain": [
       "937"
      ]
     },
     "metadata": {},
     "output_type": "display_data"
    }
   ],
   "source": [
    "571+366"
   ]
  },
  {
   "cell_type": "code",
   "execution_count": 2949,
   "id": "141b42fd",
   "metadata": {},
   "outputs": [
    {
     "data": {
      "text/plain": [
       "(937, 4)"
      ]
     },
     "execution_count": 2949,
     "metadata": {},
     "output_type": "execute_result"
    }
   ],
   "source": [
    "# BTE query results for drug and disease IDs\n",
    "bte_parquet = pd.read_parquet(\"data/analysis_results/bte_results.parquet\")\n",
    "bte_parquet.shape"
   ]
  },
  {
   "cell_type": "code",
   "execution_count": 2962,
   "id": "40b383af",
   "metadata": {},
   "outputs": [
    {
     "data": {
      "text/plain": [
       "Index(['entity_id', 'type', 'context', 'context_decoded'], dtype='object')"
      ]
     },
     "execution_count": 2962,
     "metadata": {},
     "output_type": "execute_result"
    }
   ],
   "source": [
    "bte_parquet.columns"
   ]
  }
 ],
 "metadata": {
  "kernelspec": {
   "display_name": "Python 3 (ipykernel)",
   "language": "python",
   "name": "python3"
  },
  "language_info": {
   "codemirror_mode": {
    "name": "ipython",
    "version": 3
   },
   "file_extension": ".py",
   "mimetype": "text/x-python",
   "name": "python",
   "nbconvert_exporter": "python",
   "pygments_lexer": "ipython3",
   "version": "3.10.9"
  }
 },
 "nbformat": 4,
 "nbformat_minor": 5
}
